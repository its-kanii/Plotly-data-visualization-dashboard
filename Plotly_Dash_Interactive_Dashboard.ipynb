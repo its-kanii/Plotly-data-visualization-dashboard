{
  "nbformat": 4,
  "nbformat_minor": 0,
  "metadata": {
    "colab": {
      "provenance": []
    },
    "kernelspec": {
      "name": "python3",
      "display_name": "Python 3"
    },
    "language_info": {
      "name": "python"
    }
  },
  "cells": [
    {
      "cell_type": "markdown",
      "source": [
        "# IMPORT LIBRARIES"
      ],
      "metadata": {
        "id": "V68Cw0kTzuOv"
      }
    },
    {
      "cell_type": "code",
      "source": [
        "!pip install dash"
      ],
      "metadata": {
        "colab": {
          "base_uri": "https://localhost:8080/"
        },
        "id": "caWFSj6iz-gn",
        "outputId": "81e5fd81-e1e4-4351-f026-5bb0020b872b"
      },
      "execution_count": 10,
      "outputs": [
        {
          "output_type": "stream",
          "name": "stdout",
          "text": [
            "Requirement already satisfied: dash in /usr/local/lib/python3.10/dist-packages (2.18.2)\n",
            "Requirement already satisfied: Flask<3.1,>=1.0.4 in /usr/local/lib/python3.10/dist-packages (from dash) (3.0.3)\n",
            "Requirement already satisfied: Werkzeug<3.1 in /usr/local/lib/python3.10/dist-packages (from dash) (3.0.6)\n",
            "Requirement already satisfied: plotly>=5.0.0 in /usr/local/lib/python3.10/dist-packages (from dash) (5.24.1)\n",
            "Requirement already satisfied: dash-html-components==2.0.0 in /usr/local/lib/python3.10/dist-packages (from dash) (2.0.0)\n",
            "Requirement already satisfied: dash-core-components==2.0.0 in /usr/local/lib/python3.10/dist-packages (from dash) (2.0.0)\n",
            "Requirement already satisfied: dash-table==5.0.0 in /usr/local/lib/python3.10/dist-packages (from dash) (5.0.0)\n",
            "Requirement already satisfied: importlib-metadata in /usr/local/lib/python3.10/dist-packages (from dash) (8.5.0)\n",
            "Requirement already satisfied: typing-extensions>=4.1.1 in /usr/local/lib/python3.10/dist-packages (from dash) (4.12.2)\n",
            "Requirement already satisfied: requests in /usr/local/lib/python3.10/dist-packages (from dash) (2.32.3)\n",
            "Requirement already satisfied: retrying in /usr/local/lib/python3.10/dist-packages (from dash) (1.3.4)\n",
            "Requirement already satisfied: nest-asyncio in /usr/local/lib/python3.10/dist-packages (from dash) (1.6.0)\n",
            "Requirement already satisfied: setuptools in /usr/local/lib/python3.10/dist-packages (from dash) (75.1.0)\n",
            "Requirement already satisfied: Jinja2>=3.1.2 in /usr/local/lib/python3.10/dist-packages (from Flask<3.1,>=1.0.4->dash) (3.1.4)\n",
            "Requirement already satisfied: itsdangerous>=2.1.2 in /usr/local/lib/python3.10/dist-packages (from Flask<3.1,>=1.0.4->dash) (2.2.0)\n",
            "Requirement already satisfied: click>=8.1.3 in /usr/local/lib/python3.10/dist-packages (from Flask<3.1,>=1.0.4->dash) (8.1.7)\n",
            "Requirement already satisfied: blinker>=1.6.2 in /usr/local/lib/python3.10/dist-packages (from Flask<3.1,>=1.0.4->dash) (1.9.0)\n",
            "Requirement already satisfied: tenacity>=6.2.0 in /usr/local/lib/python3.10/dist-packages (from plotly>=5.0.0->dash) (9.0.0)\n",
            "Requirement already satisfied: packaging in /usr/local/lib/python3.10/dist-packages (from plotly>=5.0.0->dash) (24.2)\n",
            "Requirement already satisfied: MarkupSafe>=2.1.1 in /usr/local/lib/python3.10/dist-packages (from Werkzeug<3.1->dash) (3.0.2)\n",
            "Requirement already satisfied: zipp>=3.20 in /usr/local/lib/python3.10/dist-packages (from importlib-metadata->dash) (3.21.0)\n",
            "Requirement already satisfied: charset-normalizer<4,>=2 in /usr/local/lib/python3.10/dist-packages (from requests->dash) (3.4.0)\n",
            "Requirement already satisfied: idna<4,>=2.5 in /usr/local/lib/python3.10/dist-packages (from requests->dash) (3.10)\n",
            "Requirement already satisfied: urllib3<3,>=1.21.1 in /usr/local/lib/python3.10/dist-packages (from requests->dash) (2.2.3)\n",
            "Requirement already satisfied: certifi>=2017.4.17 in /usr/local/lib/python3.10/dist-packages (from requests->dash) (2024.8.30)\n",
            "Requirement already satisfied: six>=1.7.0 in /usr/local/lib/python3.10/dist-packages (from retrying->dash) (1.16.0)\n"
          ]
        }
      ]
    },
    {
      "cell_type": "code",
      "source": [
        "# Importing necessary libraries\n",
        "import dash\n",
        "from dash import dcc, html, Input, Output\n",
        "import pandas as pd\n",
        "import plotly.express as px"
      ],
      "metadata": {
        "id": "aCKsd01mz0J2"
      },
      "execution_count": 11,
      "outputs": []
    },
    {
      "cell_type": "markdown",
      "source": [
        "# LOADING DATASET"
      ],
      "metadata": {
        "id": "JU013mws0EuQ"
      }
    },
    {
      "cell_type": "code",
      "source": [
        "# Load Titanic dataset\n",
        "url = 'https://raw.githubusercontent.com/datasciencedojo/datasets/master/titanic.csv'\n",
        "data = pd.read_csv(url)"
      ],
      "metadata": {
        "id": "5sfP5DG20MKi"
      },
      "execution_count": 12,
      "outputs": []
    },
    {
      "cell_type": "markdown",
      "source": [
        "# DATA PREPROCESSING"
      ],
      "metadata": {
        "id": "m4vwVMWI0N1S"
      }
    },
    {
      "cell_type": "code",
      "source": [
        "# Data Preprocessing (same as Task 2)\n",
        "data['Sex'] = data['Sex'].map({'male': 0, 'female': 1})\n",
        "data['Age'].fillna(data['Age'].median(), inplace=True)"
      ],
      "metadata": {
        "colab": {
          "base_uri": "https://localhost:8080/"
        },
        "id": "kMD0WQ6s0XO7",
        "outputId": "31a966ed-25fd-44fb-b459-1ae8443b1795"
      },
      "execution_count": 13,
      "outputs": [
        {
          "output_type": "stream",
          "name": "stderr",
          "text": [
            "<ipython-input-13-6ddefabfac39>:3: FutureWarning:\n",
            "\n",
            "A value is trying to be set on a copy of a DataFrame or Series through chained assignment using an inplace method.\n",
            "The behavior will change in pandas 3.0. This inplace method will never work because the intermediate object on which we are setting values always behaves as a copy.\n",
            "\n",
            "For example, when doing 'df[col].method(value, inplace=True)', try using 'df.method({col: value}, inplace=True)' or df[col] = df[col].method(value) instead, to perform the operation inplace on the original object.\n",
            "\n",
            "\n",
            "\n"
          ]
        }
      ]
    },
    {
      "cell_type": "markdown",
      "source": [
        "# INSIGHTS FOR DASHBOARD"
      ],
      "metadata": {
        "id": "QCFFVgGQ0Znt"
      }
    },
    {
      "cell_type": "code",
      "source": [
        "# Insights for Dashboard\n",
        "survival_rate = data['Survived'].mean() * 100  # Percentage of people who survived\n",
        "age_distribution = px.histogram(data, x='Age', title='Age Distribution', nbins=20)\n",
        "fare_by_class = px.box(data, x='Pclass', y='Fare', title='Fare Distribution by Passenger Class', color='Pclass')"
      ],
      "metadata": {
        "id": "3RSpzanD0gVq"
      },
      "execution_count": 14,
      "outputs": []
    },
    {
      "cell_type": "markdown",
      "source": [
        "# APP INITIALIZATION"
      ],
      "metadata": {
        "id": "fHVaEm190jsy"
      }
    },
    {
      "cell_type": "code",
      "source": [
        "# App Initialization\n",
        "app = dash.Dash(__name__)"
      ],
      "metadata": {
        "id": "ikFOrlcJ0s9u"
      },
      "execution_count": 15,
      "outputs": []
    },
    {
      "cell_type": "markdown",
      "source": [
        "# LAYOUT"
      ],
      "metadata": {
        "id": "pq1qPXYK0v4b"
      }
    },
    {
      "cell_type": "code",
      "source": [
        "# App Layout\n",
        "app.layout = html.Div([\n",
        "    html.H1(\"Titanic Data Dashboard\", style={'text-align': 'center'}),\n",
        "\n",
        "    # Survival Rate\n",
        "    html.Div([\n",
        "        html.H2(f\"Overall Survival Rate: {survival_rate:.2f}%\"),\n",
        "    ], style={'margin-bottom': '20px'}),\n",
        "\n",
        "    # Interactive Age Distribution\n",
        "    html.Div([\n",
        "        html.H3(\"Age Distribution\"),\n",
        "        dcc.Graph(figure=age_distribution),\n",
        "    ]),\n",
        "\n",
        "    # Fare Distribution by Passenger Class\n",
        "    html.Div([\n",
        "        html.H3(\"Fare Distribution by Passenger Class\"),\n",
        "        dcc.Graph(figure=fare_by_class),\n",
        "    ]),\n",
        "\n",
        "    # Interactive Filters for Custom Insights\n",
        "    html.Div([\n",
        "        html.H3(\"Filter Insights by Sex\"),\n",
        "        dcc.Dropdown(\n",
        "            id='sex-dropdown',\n",
        "            options=[\n",
        "                {'label': 'Male', 'value': 0},\n",
        "                {'label': 'Female', 'value': 1}\n",
        "            ],\n",
        "            value=0,\n",
        "            style={'width': '50%'}\n",
        "        ),\n",
        "        dcc.Graph(id='filtered-age-distribution'),\n",
        "    ])\n",
        "])\n"
      ],
      "metadata": {
        "id": "A8fPGZjm1NgQ"
      },
      "execution_count": 16,
      "outputs": []
    },
    {
      "cell_type": "code",
      "source": [
        "# Callback for Interactive Filtering\n",
        "@app.callback(\n",
        "    Output('filtered-age-distribution', 'figure'),\n",
        "    Input('sex-dropdown', 'value')\n",
        ")\n",
        "def update_age_distribution(sex_value):\n",
        "    filtered_data = data[data['Sex'] == sex_value]\n",
        "    fig = px.histogram(filtered_data, x='Age', nbins=20,\n",
        "                       title=f\"Age Distribution for {'Male' if sex_value == 0 else 'Female'} Passengers\")\n",
        "    return fig"
      ],
      "metadata": {
        "id": "mOLvayKZ1Rep"
      },
      "execution_count": 17,
      "outputs": []
    },
    {
      "cell_type": "markdown",
      "source": [
        "# RUN APP"
      ],
      "metadata": {
        "id": "T4f-ChEu1YtK"
      }
    },
    {
      "cell_type": "code",
      "source": [
        "# Run App\n",
        "if __name__ == '__main__':\n",
        "    app.run_server(debug=True)"
      ],
      "metadata": {
        "colab": {
          "base_uri": "https://localhost:8080/",
          "height": 672
        },
        "id": "nOfN2rlQ1afO",
        "outputId": "4d97497b-ac63-41a6-e1a9-a552ba9cf742"
      },
      "execution_count": 18,
      "outputs": [
        {
          "output_type": "display_data",
          "data": {
            "text/plain": [
              "<IPython.core.display.Javascript object>"
            ],
            "application/javascript": [
              "(async (port, path, width, height, cache, element) => {\n",
              "    if (!google.colab.kernel.accessAllowed && !cache) {\n",
              "      return;\n",
              "    }\n",
              "    element.appendChild(document.createTextNode(''));\n",
              "    const url = await google.colab.kernel.proxyPort(port, {cache});\n",
              "    const iframe = document.createElement('iframe');\n",
              "    iframe.src = new URL(path, url).toString();\n",
              "    iframe.height = height;\n",
              "    iframe.width = width;\n",
              "    iframe.style.border = 0;\n",
              "    iframe.allow = [\n",
              "        'accelerometer',\n",
              "        'autoplay',\n",
              "        'camera',\n",
              "        'clipboard-read',\n",
              "        'clipboard-write',\n",
              "        'gyroscope',\n",
              "        'magnetometer',\n",
              "        'microphone',\n",
              "        'serial',\n",
              "        'usb',\n",
              "        'xr-spatial-tracking',\n",
              "    ].join('; ');\n",
              "    element.appendChild(iframe);\n",
              "  })(8050, \"/\", \"100%\", 650, false, window.element)"
            ]
          },
          "metadata": {}
        }
      ]
    }
  ]
}